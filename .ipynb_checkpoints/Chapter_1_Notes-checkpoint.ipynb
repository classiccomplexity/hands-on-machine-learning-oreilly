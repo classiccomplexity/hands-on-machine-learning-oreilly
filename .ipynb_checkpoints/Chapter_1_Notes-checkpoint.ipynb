{
 "cells": [
  {
   "cell_type": "markdown",
   "metadata": {},
   "source": [
    "Machine learning is great for.\n",
    "\n",
    "* Problems that need existing solutions that need a lot fo fine tuning, or a long list of rules. So the ML algorithm can simply the code or work better than a more traditional apaproach.\n",
    "* Complex problems where a traditional approach wont' give a good solution.\n",
    "* Need an algorithm that can adapt to newly dat.\n",
    "* Given insights about problems with large amounts of data."
   ]
  },
  {
   "cell_type": "markdown",
   "metadata": {},
   "source": [
    "Supervised learning\n",
    "\n",
    "* The training data is labeled\n",
    "* An example of a supervised learning task is classification. Where it is trained with example emails with their class and must learn how to classify new emails.\n",
    "* example of supervised learning algos.\n",
    "   * k-Nearest Neighbors\n",
    "   * Linear Regression\n",
    "   * Logistic Regression\n",
    "   * Support Vector Machines (SVMs)\n",
    "   * Decision Trees and Random Forests \n",
    "   * Neural Networks"
   ]
  },
  {
   "cell_type": "markdown",
   "metadata": {},
   "source": [
    "Unsupervised learning\n",
    "\n",
    "* The training data is unlabeled\n",
    "* The most important unsupervised learning algorithms are \n",
    "   * Clustering \n",
    "      * K-Means\n",
    "      * DBSCAN\n",
    "      * Hierarchial Cluster Analysis (HCA)\n",
    "   * Anomaly detection and novelty dection \n",
    "      * One-class SVM\n",
    "      * Isolation Forest\n",
    "   * Visualization and dimensionality reduction\n",
    "      * Principle Component Analysis (PCA)\n",
    "      * Kernal PCA\n",
    "      * Locally Linear Embedding (LLE)\n",
    "      * t-Distributed Stochastic Neighbor Embedding (t-SNE)\n",
    "   * Association rule learning \n",
    "      * Apriori\n",
    "      * Eclat\n",
    "* Visualization algorithms are helpful because they all for data be represented visually (either 2D or 3D) for easy recognization of unsuspected patterns.\n",
    "* A related task is dimensionality reduction, which is to simply the data with losing to much information. A way to go about doign this is to merge correlataed features into one.\n",
    "* For example, a cars milage will corrolated with tis age, sot he dimensionality reduction algorithm will merge them into one feature the cars \"wear or tear\". This is called feature extraction.\n",
    "* Another unsupervised task is anomaly tection like for deteching unusual credit card trasnations. The system is shown normal instances during training so it learns to recgonize them so when it sees a new instance it can discern whether or not it looks normal or it is an anomaly."
   ]
  },
  {
   "cell_type": "markdown",
   "metadata": {},
   "source": [
    "Instance-Based v.s. Model-Based Leraning\n",
    "* Most trivial form of (instance-based) learning that is simple. As an example this would be an spam filter tht would flag emails that are idential to emails that have been already flagged by users.\n",
    "* The system learns examples by heart, then generalied to new cases using a meeasures that compares similarity.\n",
    "\n",
    "* Another way to generalize from a set of examples it to build a model of these examples then use that model to make predictions, this is called model-based learning.\n"
   ]
  },
  {
   "cell_type": "code",
   "execution_count": 1,
   "metadata": {},
   "outputs": [
    {
     "ename": "ModuleNotFoundError",
     "evalue": "No module named 'matplotlib'",
     "output_type": "error",
     "traceback": [
      "\u001b[1;31m---------------------------------------------------------------------------\u001b[0m",
      "\u001b[1;31mModuleNotFoundError\u001b[0m                       Traceback (most recent call last)",
      "\u001b[1;32m<ipython-input-1-96d3cf543e91>\u001b[0m in \u001b[0;36m<module>\u001b[1;34m\u001b[0m\n\u001b[0;32m      1\u001b[0m \u001b[1;31m# Example 1-1. Training and running a linear model using Scikit-Learn\u001b[0m\u001b[1;33m\u001b[0m\u001b[1;33m\u001b[0m\u001b[1;33m\u001b[0m\u001b[0m\n\u001b[0;32m      2\u001b[0m \u001b[1;33m\u001b[0m\u001b[0m\n\u001b[1;32m----> 3\u001b[1;33m \u001b[1;32mimport\u001b[0m \u001b[0mmatplotlib\u001b[0m\u001b[1;33m.\u001b[0m\u001b[0mpyplot\u001b[0m \u001b[1;32mas\u001b[0m \u001b[0mplt\u001b[0m\u001b[1;33m\u001b[0m\u001b[1;33m\u001b[0m\u001b[0m\n\u001b[0m\u001b[0;32m      4\u001b[0m \u001b[1;32mimport\u001b[0m \u001b[0mnumpy\u001b[0m \u001b[1;32mas\u001b[0m \u001b[0mnp\u001b[0m\u001b[1;33m\u001b[0m\u001b[1;33m\u001b[0m\u001b[0m\n\u001b[0;32m      5\u001b[0m \u001b[1;32mimport\u001b[0m \u001b[0mpandas\u001b[0m \u001b[1;32mas\u001b[0m \u001b[0mpd\u001b[0m\u001b[1;33m\u001b[0m\u001b[1;33m\u001b[0m\u001b[0m\n",
      "\u001b[1;31mModuleNotFoundError\u001b[0m: No module named 'matplotlib'"
     ]
    }
   ],
   "source": [
    "# Example 1-1. Training and running a linear model using Scikit-Learn\n",
    "\n",
    "import matplotlib.pyplot as plt\n",
    "import numpy as np\n",
    "import pandas as pd\n",
    "import sklearn.linear_model\n",
    "\n",
    "#load data\n",
    "oecd_bli = pd.read_csv(\"oecd_bli_2015.csv\", thousands = ',')\n",
    "gdp_per_capita = pd.read_csv(\"gdp_per_capita.csv\", thousands = ',', delimiter ='\\t', \n",
    "                             enconding='latin1', na_values=\"n/a\")"
   ]
  },
  {
   "cell_type": "code",
   "execution_count": null,
   "metadata": {},
   "outputs": [],
   "source": []
  }
 ],
 "metadata": {
  "kernelspec": {
   "display_name": "Python 3",
   "language": "python",
   "name": "python3"
  },
  "language_info": {
   "codemirror_mode": {
    "name": "ipython",
    "version": 3
   },
   "file_extension": ".py",
   "mimetype": "text/x-python",
   "name": "python",
   "nbconvert_exporter": "python",
   "pygments_lexer": "ipython3",
   "version": "3.8.1"
  }
 },
 "nbformat": 4,
 "nbformat_minor": 4
}
